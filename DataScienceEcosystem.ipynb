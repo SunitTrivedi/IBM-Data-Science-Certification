{
 "cells": [
  {
   "cell_type": "markdown",
   "id": "5bd5b917-d386-4b19-9b57-91cdab8f724b",
   "metadata": {},
   "source": [
    "# Data Science Tools and Ecosystem"
   ]
  },
  {
   "cell_type": "markdown",
   "id": "6c5cb853-3c09-476a-85f2-5f80011c9957",
   "metadata": {},
   "source": [
    "In this notebook, Data Science Tools and Ecosystem are summarized."
   ]
  },
  {
   "cell_type": "markdown",
   "id": "78cfb7d0-0e1d-4e03-8e43-acc37fa220ab",
   "metadata": {},
   "source": [
    "**Objectives:**\n",
    "* List popular languages for Data Science\n",
    "* List some of the commonly used libraries used by Data Scientists\n",
    "* List Data Science Tools\n",
    "* Few Arithmetic Expressions"
   ]
  },
  {
   "cell_type": "markdown",
   "id": "531688d4-6759-40ea-851d-0a5fd4366fb5",
   "metadata": {},
   "source": [
    "Some of the popular languages that Data Scientists use are:\n",
    "1. Python\n",
    "2. R\n",
    "3. SQL"
   ]
  },
  {
   "cell_type": "markdown",
   "id": "9eefd652-823c-4799-8795-abacec546290",
   "metadata": {},
   "source": [
    "Some of the commonly used libraries used by Data Scientists include:\n",
    "1. Pandas\n",
    "2. Numpy\n",
    "3. Tensorflow\n",
    "4. BeautifulSoup\n"
   ]
  },
  {
   "cell_type": "markdown",
   "id": "c8abe7df-0405-4172-a761-32c8d1e1fb32",
   "metadata": {},
   "source": [
    "|Data Science Tools|\n",
    "| --- | \n",
    "|IBM Watson Studio| \n",
    "|R Studio|\n",
    "|Jupyter Notebook| "
   ]
  },
  {
   "cell_type": "markdown",
   "id": "76e3361d-7fdb-41b3-b21e-c004914bbc52",
   "metadata": {},
   "source": [
    "### Below are a few examples of evaluating arithmetic expressions in Python"
   ]
  },
  {
   "cell_type": "code",
   "execution_count": 6,
   "id": "42408e92-bcf3-4434-b81e-b993a19c26dd",
   "metadata": {},
   "outputs": [],
   "source": [
    "# This a simple arithmetic expression to mutiply then add integers"
   ]
  },
  {
   "cell_type": "code",
   "execution_count": 7,
   "id": "90698ceb-ef4e-4fe1-ab29-4ec3a0eb5b0d",
   "metadata": {},
   "outputs": [
    {
     "data": {
      "text/plain": [
       "17"
      ]
     },
     "execution_count": 7,
     "metadata": {},
     "output_type": "execute_result"
    }
   ],
   "source": [
    "(3*4)+5"
   ]
  },
  {
   "cell_type": "code",
   "execution_count": 8,
   "id": "3d2d65bb-a0d7-442a-a6b8-0da85cce214a",
   "metadata": {},
   "outputs": [
    {
     "data": {
      "text/plain": [
       "3.3333333333333335"
      ]
     },
     "execution_count": 8,
     "metadata": {},
     "output_type": "execute_result"
    }
   ],
   "source": [
    "# This will convert 200 minutes to hours by diving by 60\n",
    "min = 200\n",
    "hrs = (min)/60\n",
    "hrs"
   ]
  },
  {
   "cell_type": "markdown",
   "id": "f46a6c13-63c0-48ea-85dd-868261116d6b",
   "metadata": {},
   "source": [
    "## Author\n",
    "Sunit Trivedi"
   ]
  },
  {
   "cell_type": "code",
   "execution_count": null,
   "id": "527d344c-b0c3-401c-9224-81d845c22f05",
   "metadata": {},
   "outputs": [],
   "source": []
  }
 ],
 "metadata": {
  "kernelspec": {
   "display_name": "Python",
   "language": "python",
   "name": "conda-env-python-py"
  },
  "language_info": {
   "codemirror_mode": {
    "name": "ipython",
    "version": 3
   },
   "file_extension": ".py",
   "mimetype": "text/x-python",
   "name": "python",
   "nbconvert_exporter": "python",
   "pygments_lexer": "ipython3",
   "version": "3.7.12"
  }
 },
 "nbformat": 4,
 "nbformat_minor": 5
}
